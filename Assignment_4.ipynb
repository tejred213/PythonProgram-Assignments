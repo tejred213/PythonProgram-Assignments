{
 "cells": [
  {
   "cell_type": "code",
   "execution_count": 17,
   "metadata": {},
   "outputs": [
    {
     "name": "stdout",
     "output_type": "stream",
     "text": [
      "[1, 2]\n",
      "[1, 2, '3']\n",
      "[1, 2, '3', 4, 'six']\n",
      "[1, 2, '3', 4, 5, 'six']\n"
     ]
    }
   ],
   "source": [
    "lst = [1,2]\n",
    "print(lst)\n",
    "lst.append('3')\n",
    "print(lst)\n",
    "lst.extend([4, 'six'])\n",
    "print(lst)\n",
    "lst.insert(4,5)\n",
    "print(lst)"
   ]
  },
  {
   "cell_type": "code",
   "execution_count": 20,
   "metadata": {},
   "outputs": [
    {
     "name": "stdout",
     "output_type": "stream",
     "text": [
      "[1, 2, 3, 4, 5, 'six', 7, 8, 9, 10]\n",
      "[1, 2, 3, 4, 5, 7, 8, 9, 10]\n",
      "The popped element is 9\n",
      "[1, 2, 3, 4, 5, 7, 8, 10]\n",
      "[1, 2, 3, 4, 5, 7, 8]\n",
      "7\n",
      "[]\n"
     ]
    }
   ],
   "source": [
    "lst = [1,2,3,4,5,'six']\n",
    "lst.extend([7,8,9,10])\n",
    "print(lst)\n",
    "del lst[5]\n",
    "print(lst)\n",
    "b=lst.pop(7)\n",
    "print(f\"The popped element is {b}\")\n",
    "print(lst)\n",
    "a = lst.remove(10)\n",
    "print(lst)\n",
    "print(len(lst))\n",
    "lst.clear()\n",
    "print(lst)\n"
   ]
  },
  {
   "cell_type": "code",
   "execution_count": 25,
   "metadata": {},
   "outputs": [
    {
     "name": "stdout",
     "output_type": "stream",
     "text": [
      "1\n",
      "2\n",
      "3\n",
      "4.32\n",
      "5\n",
      "6\n",
      "8\n",
      "5\n",
      "9.1\n",
      "[1, 2, 3, 4.32, 5, 6, 8, 5, 9.1]\n",
      "4.32\n",
      "[1, 2, 3, 4.32]\n",
      "[1, 3, 5, 8]\n",
      "[9.1, 5, 8, 6, 5, 4.32, 3, 2, 1]\n",
      "9\n",
      "2\n",
      "2\n",
      "[1, 2, 3, 4.32, 5, 5, 6, 8, 9.1]\n",
      "[9.1, 8, 6, 5, 5, 4.32, 3, 2, 1]\n"
     ]
    }
   ],
   "source": [
    "lst =[1,2,3,4.32,5,6,8,5,9.10]\n",
    "for i in lst:\n",
    "    print(i)\n",
    "print(lst)\n",
    "print(lst[3])\n",
    "print(lst[0:4])\n",
    "print(lst[:8:2])\n",
    "print(lst[::-1])\n",
    "print(len(lst))\n",
    "print(lst.index(3))\n",
    "print(lst.count(5))\n",
    "print(sorted(lst))\n",
    "lst.sort(reverse=True)\n",
    "print(lst)"
   ]
  },
  {
   "cell_type": "code",
   "execution_count": 27,
   "metadata": {},
   "outputs": [
    {
     "name": "stdout",
     "output_type": "stream",
     "text": [
      "[1, 2]\n",
      "4\n",
      "[3, 4]\n",
      "[1, 2]\n",
      "[4, 3, 2, 1]\n"
     ]
    }
   ],
   "source": [
    "list_1 =[ 1,2,3,4]\n",
    "print(list_1[0:2])\n",
    "print(list_1[len(list_1)-1])\n",
    "print(list_1[-2:])\n",
    "print(list_1[:-2])\n",
    "print(list_1[::-1])"
   ]
  },
  {
   "cell_type": "code",
   "execution_count": 1,
   "metadata": {},
   "outputs": [
    {
     "name": "stdout",
     "output_type": "stream",
     "text": [
      "The entered list of numbers is: [1, 2, 3, 4, 2, 5, 6, 7, 5, 8]\n",
      "\n",
      "The number 2 is repeated at index positon 1\n",
      "The number 2 is repeated at index positon 4\n",
      "The number 5 is repeated at index positon 5\n",
      "The number 5 is repeated at index positon 8\n"
     ]
    }
   ],
   "source": [
    "# Q2 A\n",
    "\n",
    "\n",
    "l1 =[]\n",
    "for i in range(10):\n",
    "    a = int(input(\"Enter the value: \"))\n",
    "    l1.append(a)\n",
    "\n",
    "print(f\"The entered list of numbers is: {l1}\\n\")\n",
    "ind =[]\n",
    "r =[]\n",
    "for i in range(len(l1)):\n",
    "    j = i+1\n",
    "    for j in range(j,len(l1)):\n",
    "        if l1[i] == l1[j] and l1[i] not in r:\n",
    "            r.append(l1[i])\n",
    "    for k in range(len(r)):\n",
    "        if l1[i]==r[k]:\n",
    "            ind.append(i)\n",
    "            print(f\"The number {r[k]} is repeated at index positon {i}\")\n",
    "            ind =[]"
   ]
  },
  {
   "cell_type": "code",
   "execution_count": 21,
   "metadata": {},
   "outputs": [
    {
     "name": "stdout",
     "output_type": "stream",
     "text": [
      "Count of even elements is 3\n",
      "Count of odd elements is 4\n"
     ]
    }
   ],
   "source": [
    "# Q2 B\n",
    "\n",
    "l1 =[]\n",
    "for i in range(10):\n",
    "    a = int(input(\"Enter the value: \"))\n",
    "    l1.append(a)\n",
    "\n",
    "ecount = 0\n",
    "ocount = 0\n",
    "\n",
    "for i in l1:\n",
    "    if (i%2==0):\n",
    "        ecount += 1\n",
    "    else:\n",
    "        ocount += 1\n",
    "\n",
    "print(f\"Count of even elements is {ecount}\")\n",
    "print(f\"Count of odd elements is {ocount}\")"
   ]
  },
  {
   "cell_type": "code",
   "execution_count": 22,
   "metadata": {},
   "outputs": [
    {
     "name": "stdout",
     "output_type": "stream",
     "text": [
      "Count of positive elements is 8\n",
      "Count of negative elements is 3\n"
     ]
    }
   ],
   "source": [
    "# Q2 C\n",
    "\n",
    "l1 =[]\n",
    "for i in range(10):\n",
    "    a = int(input(\"Enter the value: \"))\n",
    "    l1.append(a)\n",
    "\n",
    "\n",
    "pcount = 0\n",
    "ncount = 0\n",
    "\n",
    "for i in l1:\n",
    "    if i>=0:\n",
    "        pcount += 1\n",
    "    else:\n",
    "        ncount += 1\n",
    "\n",
    "print(f\"Count of positive elements is {pcount}\")\n",
    "print(f\"Count of negative elements is {ncount}\")    "
   ]
  },
  {
   "cell_type": "code",
   "execution_count": 24,
   "metadata": {},
   "outputs": [
    {
     "name": "stdout",
     "output_type": "stream",
     "text": [
      "Ascending order:\n",
      "[-3, -2, -1, 0, 1, 2, 3, 3, 3, 4, 8]\n",
      "Descending order:\n",
      "[8, 4, 3, 3, 3, 2, 1, 0, -1, -2, -3]\n",
      "The length of the entered string is 11\n"
     ]
    }
   ],
   "source": [
    "# Q3 A\n",
    "\n",
    "l1 =[]\n",
    "for i in range(10):\n",
    "    a = int(input(\"Enter the value: \"))\n",
    "    l1.append(a)\n",
    "\n",
    "a = sorted(l1)\n",
    "print(f\"Ascending order:\\n{a}\")\n",
    "\n",
    "l1.sort(reverse = True)\n",
    "print(f\"Descending order:\\n{l1}\")\n",
    "\n",
    "print(f\"The length of the entered string is {len(l1)}\")\n"
   ]
  },
  {
   "cell_type": "code",
   "execution_count": 27,
   "metadata": {},
   "outputs": [
    {
     "name": "stdout",
     "output_type": "stream",
     "text": [
      "[1, 2, 3, 4]\n"
     ]
    }
   ],
   "source": [
    "# Q4\n",
    "\n",
    "l1 =[]\n",
    "for i in range(20):\n",
    "    i = int(input(\"Enter the value: \"))\n",
    "    l1.append(i)\n",
    "\n",
    "l2 =[]\n",
    "for i in range(20):\n",
    "    i = int(input(\"Enter the value: \"))\n",
    "    l2.append(i)\n",
    "\n",
    "\n",
    "l1 += l2\n",
    "print(l1)"
   ]
  },
  {
   "cell_type": "code",
   "execution_count": 46,
   "metadata": {},
   "outputs": [
    {
     "name": "stdout",
     "output_type": "stream",
     "text": [
      "['viren', 'sanjay', 'khatri']\n",
      "VSK\n"
     ]
    }
   ],
   "source": [
    "# Q5 \n",
    "a = input(\"Enter the words: \")\n",
    "\n",
    "b= a.split()\n",
    "print(b)\n",
    "\n",
    "res = \"\"\n",
    "for i in b:\n",
    "    res = res + i[0].capitalize()\n",
    "    \n",
    "print(res)"
   ]
  },
  {
   "cell_type": "code",
   "execution_count": 77,
   "metadata": {},
   "outputs": [
    {
     "name": "stdout",
     "output_type": "stream",
     "text": [
      "The month corresponding to the number 5 is May\n"
     ]
    }
   ],
   "source": [
    "# Q6\n",
    "\n",
    "months = ['Janurary', 'Feburary', 'March', 'April', 'May', 'June', 'July', 'August', 'September', 'Ocotber', 'November','December']\n",
    "\n",
    "a = int(input(\"Enter the number of the month: \"))\n",
    "\n",
    "if a in range(len(months)):\n",
    "    print(f\"The month corresponding to the number {a} is {months[a-1]}\")"
   ]
  },
  {
   "cell_type": "code",
   "execution_count": 6,
   "metadata": {},
   "outputs": [
    {
     "name": "stdout",
     "output_type": "stream",
     "text": [
      "Error! Enter the marks obtained out of 100\n"
     ]
    }
   ],
   "source": [
    "# FAQ Q2\n",
    "\n",
    "math = int(input(\"Enter the marks obtained in Maths: \"))\n",
    "\n",
    "if 90<=math<=100:\n",
    "    print(\"Grade Obtained: O\")\n",
    "elif 80<=math<=89:\n",
    "    print(\"Grade Obtained: A+\")\n",
    "elif 70<=math<=79:\n",
    "    print(\"Grade Obtained: A\")\n",
    "elif 60<=math<=69:\n",
    "    print(\"Grade Obtained: B\")\n",
    "elif 50<=math<=59:\n",
    "    print(\"Grade Obtained: C\")\n",
    "elif 40<=math<=49:\n",
    "    print(\"Grade Obtained: P\")\n",
    "elif math<39:\n",
    "    print(\"Grade Obtained: F\")\n",
    "else:\n",
    "    print(\"Error! Enter the marks obtained out of 100\")"
   ]
  },
  {
   "cell_type": "code",
   "execution_count": null,
   "metadata": {},
   "outputs": [],
   "source": []
  }
 ],
 "metadata": {
  "kernelspec": {
   "display_name": "Python 3 (ipykernel)",
   "language": "python",
   "name": "python3"
  },
  "language_info": {
   "codemirror_mode": {
    "name": "ipython",
    "version": 3
   },
   "file_extension": ".py",
   "mimetype": "text/x-python",
   "name": "python",
   "nbconvert_exporter": "python",
   "pygments_lexer": "ipython3",
   "version": "3.9.7"
  },
  "vscode": {
   "interpreter": {
    "hash": "31f2aee4e71d21fbe5cf8b01ff0e069b9275f58929596ceb00d14d90e3e16cd6"
   }
  }
 },
 "nbformat": 4,
 "nbformat_minor": 2
}
