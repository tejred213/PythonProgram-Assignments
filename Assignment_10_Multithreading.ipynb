{
 "cells": [
  {
   "cell_type": "code",
   "execution_count": 3,
   "id": "e2dcb0c7",
   "metadata": {},
   "outputs": [
    {
     "name": "stdout",
     "output_type": "stream",
     "text": [
      "Calculate the square of the given number:\n",
      "Calculate the cube of the given number\n",
      "Calculate the square root of the given number:\n",
      "Cube is :Square is : 16\n",
      " 64\n",
      "Square root is: 2.0\n",
      "Square is :Cube is : 25\n",
      " 125\n",
      "Square root is: 2.23606797749979\n",
      "Square is :Cube is : 216\n",
      " 36\n",
      "Square root is:Square is : 49\n",
      "Cube is : 2.449489742783178\n",
      " 343\n",
      "Square is :Cube is : 4\n",
      " 8\n",
      "Square root is: 2.6457513110645907\n",
      "Square root is: 1.4142135623730951\n",
      " Total time taking by threads is: 2.061917781829834\n",
      " Again executing the main thread\n",
      " Thread 1 and Thread 2 and Thread 3 have finished their execution.\n"
     ]
    }
   ],
   "source": [
    "#making calculator using multithreading\n",
    "import time # import time module\n",
    "import threading \n",
    "import math\n",
    "from threading import *\n",
    "def cal_sqre(num): #define a square calculating function\n",
    "    print(\"Calculate the square of the given number:\")\n",
    "    for n in num: #use for loop\n",
    "        time.sleep(0.3) #at each iteration it waits for 0.3 time\n",
    "        print('Square is :', n*n)\n",
    "        \n",
    "def cal_cube(num): #define a cube calculating function\n",
    "    print(\"Calculate the cube of the given number\")\n",
    "    for n in num: # for loop\n",
    "        time.sleep(0.3) #at each iteration it waits for 0.3 time\n",
    "        print('Cube is :', n*n*n)\n",
    "        \n",
    "def cal_sqreroot(num): #define a squareroot calculating function\n",
    "    print(\"Calculate the square root of the given number:\")\n",
    "    for n in num: #for loop\n",
    "        time.sleep(0.4) #at each iteration it waits for 0.4 time\n",
    "        print('Square root is:',math.sqrt(n))\n",
    "\n",
    "ar = [4,5,6,7,2] #given array\n",
    "\n",
    "t=time.time() # get the total time to execute the functions\n",
    "#cal_cube(ar)\n",
    "#cal_sqre(ar)\n",
    "#cal_sqreroot(ar)\n",
    "th1=threading.Thread(target=cal_sqre, args=(ar, ))\n",
    "th2=threading.Thread(target=cal_cube, args=(ar, ))\n",
    "th3=threading.Thread(target=cal_sqreroot, args=(ar, ))\n",
    "th1.start()\n",
    "th2.start()\n",
    "th3.start()\n",
    "th1.join()\n",
    "th2.join()\n",
    "th3.join()\n",
    "print(\" Total time taking by threads is:\", time.time()-t) #print the total time\n",
    "print(\" Again executing the main thread\")\n",
    "print(\" Thread 1 and Thread 2 and Thread 3 have finished their execution.\")"
   ]
  },
  {
   "cell_type": "code",
   "execution_count": null,
   "id": "2b52f970",
   "metadata": {},
   "outputs": [],
   "source": []
  }
 ],
 "metadata": {
  "kernelspec": {
   "display_name": "Python 3 (ipykernel)",
   "language": "python",
   "name": "python3"
  },
  "language_info": {
   "codemirror_mode": {
    "name": "ipython",
    "version": 3
   },
   "file_extension": ".py",
   "mimetype": "text/x-python",
   "name": "python",
   "nbconvert_exporter": "python",
   "pygments_lexer": "ipython3",
   "version": "3.9.7"
  }
 },
 "nbformat": 4,
 "nbformat_minor": 5
}
