{
 "cells": [
  {
   "cell_type": "code",
   "execution_count": 4,
   "id": "7879f793",
   "metadata": {},
   "outputs": [
    {
     "name": "stdout",
     "output_type": "stream",
     "text": [
      "[1 2 3 4 5]\n",
      "[1 2 3 4 5]\n",
      "<class 'numpy.ndarray'>\n"
     ]
    }
   ],
   "source": [
    "import numpy\n",
    "arr = numpy . array ([1 , 2, 3, 4, 5]) \n",
    "print ( arr )\n",
    "\n",
    "import numpy as np\n",
    "a = np.array([1, 2, 3, 4, 5]) \n",
    "print(a)\n",
    "print(type(a))\n"
   ]
  },
  {
   "cell_type": "code",
   "execution_count": 6,
   "id": "b3751544",
   "metadata": {},
   "outputs": [
    {
     "name": "stdout",
     "output_type": "stream",
     "text": [
      "42\n",
      "[1 2 3 4 5]\n",
      "[[1 2 3]\n",
      " [4 5 6]]\n"
     ]
    }
   ],
   "source": [
    "import numpy as np \n",
    "arr = np. array (42) \n",
    "print ( arr )\n",
    "arr1 = np.array([1, 2, 3, 4, 5]) \n",
    "print(arr1)\n",
    "arr2 = np.array([[1, 2, 3], [4, 5, 6]]) \n",
    "print(arr2)\n",
    "arr3 = np.array([[[0, 1], [2, 3]], [[4, 5], [6, 7]]])\n"
   ]
  },
  {
   "cell_type": "code",
   "execution_count": 7,
   "id": "7a383e49",
   "metadata": {},
   "outputs": [
    {
     "name": "stdout",
     "output_type": "stream",
     "text": [
      "int32\n",
      "[[1. 2. 3.]]\n",
      "float64\n"
     ]
    },
    {
     "data": {
      "text/plain": [
       "dtype('<U6')"
      ]
     },
     "execution_count": 7,
     "metadata": {},
     "output_type": "execute_result"
    }
   ],
   "source": [
    "import numpy as np\n",
    "a = np.array([(1 ,2 ,3)]) \n",
    "print(a.dtype)\n",
    "arr = a.astype('float64') \n",
    "print(arr) \n",
    "print(arr.dtype)\n",
    "s = np.array(['Ram','Robert','Rahim']) \n",
    "s.dtype\n"
   ]
  },
  {
   "cell_type": "code",
   "execution_count": 8,
   "id": "f5d0ba9e",
   "metadata": {},
   "outputs": [
    {
     "name": "stdout",
     "output_type": "stream",
     "text": [
      "[2 3 4 5]\n",
      "[ 1  4  9 16]\n",
      "[2. 2. 2. 2.]\n",
      "[[1. 1. 1.]\n",
      " [1. 1. 1.]\n",
      " [1. 1. 1.]]\n",
      "3\n"
     ]
    }
   ],
   "source": [
    "a = np.array([1, 2, 3, 4])\n",
    "print(a + 1) \n",
    "print(a**2)\n",
    "b = np.ones(4) + 1 \n",
    "print(b)\n",
    "b = np.zeros((3,3)) + 1\n",
    "print(b)\n",
    "c = np.eye(3)\n",
    "d = np.eye(3, 2)\n",
    "a = np.diag([1, 2, 3, 4]) \n",
    "a\n",
    "print(a[2, 2])\n"
   ]
  },
  {
   "cell_type": "code",
   "execution_count": null,
   "id": "b455724d",
   "metadata": {},
   "outputs": [],
   "source": []
  }
 ],
 "metadata": {
  "kernelspec": {
   "display_name": "Python 3 (ipykernel)",
   "language": "python",
   "name": "python3"
  },
  "language_info": {
   "codemirror_mode": {
    "name": "ipython",
    "version": 3
   },
   "file_extension": ".py",
   "mimetype": "text/x-python",
   "name": "python",
   "nbconvert_exporter": "python",
   "pygments_lexer": "ipython3",
   "version": "3.9.7"
  }
 },
 "nbformat": 4,
 "nbformat_minor": 5
}
