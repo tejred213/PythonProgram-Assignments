{
 "cells": [
  {
   "cell_type": "code",
   "execution_count": 6,
   "id": "26a2e41a",
   "metadata": {},
   "outputs": [
    {
     "name": "stdout",
     "output_type": "stream",
     "text": [
      "search successful.\n"
     ]
    }
   ],
   "source": [
    "#The pattern is : any five letter string starting with a and ending with s\n",
    "import re\n",
    "pattern = '^a...s$'\n",
    "test_string = 'abyss'\n",
    "#test_string = 'byss'\n",
    "#test_string = 'abacus'\n",
    "result = re.match(pattern,test_string)\n",
    "if result:\n",
    "    print(\"search successful.\")\n",
    "else:\n",
    "    print(\"Search Unsuccessful.\")"
   ]
  },
  {
   "cell_type": "code",
   "execution_count": 10,
   "id": "eadfbc1f",
   "metadata": {},
   "outputs": [
    {
     "name": "stdout",
     "output_type": "stream",
     "text": [
      "['1', '2', '8', '9', '3', '3']\n"
     ]
    }
   ],
   "source": [
    "#Program to extract numbers from a string\n",
    "import re\n",
    "string = 'hello 12 hi 89. How are you 3 and 3'\n",
    "pattern ='\\d'\n",
    "#pattern = '\\D'\n",
    "result = re.findall(pattern, string)\n",
    "print(result)"
   ]
  },
  {
   "cell_type": "code",
   "execution_count": 17,
   "id": "d5d81a07",
   "metadata": {},
   "outputs": [
    {
     "name": "stdout",
     "output_type": "stream",
     "text": [
      "['', 'T', 'w', 'e', 'l', 'v', 'e', ':', '', '', ' ', 'E', 'i', 'g', 'h', 't', 'y', ' ', 'N', 'i', 'n', 'e', ':', '', '', '.', '']\n"
     ]
    }
   ],
   "source": [
    "#The re.split method splits the string where there is a match and \n",
    "#returns a list of strings where the splits have occured\n",
    "import re\n",
    "string = 'Twelve:12 Eighty Nine:89.'\n",
    "pattern = '\\d?'\n",
    "#pattern = '\\d*'\n",
    "result = re.split(pattern,string)\n",
    "print(result)"
   ]
  },
  {
   "cell_type": "code",
   "execution_count": 21,
   "id": "45daa80f",
   "metadata": {},
   "outputs": [
    {
     "name": "stdout",
     "output_type": "stream",
     "text": [
      "Pattern found inside the string\n"
     ]
    }
   ],
   "source": [
    "#Check if 'Python' is at the beginning\n",
    "import re\n",
    "string = \"Python is interpreted Language\"\n",
    "match = re.search('\\APython', string)\n",
    "#match = re.search('\\ASYBtech', string)\n",
    "if match:\n",
    "    print(\"Pattern found inside the string\")\n",
    "else:\n",
    "    print(\"Pattern not found\")"
   ]
  },
  {
   "cell_type": "code",
   "execution_count": 26,
   "id": "7f785705",
   "metadata": {},
   "outputs": [
    {
     "name": "stdout",
     "output_type": "stream",
     "text": [
      "(12, 16)\n"
     ]
    }
   ],
   "source": [
    "str='Her Name is sita'\n",
    "for i in re.finditer(\"sita\",str):\n",
    "    index=i.span()\n",
    "    print(index)"
   ]
  },
  {
   "cell_type": "code",
   "execution_count": 29,
   "id": "b35d7e27",
   "metadata": {},
   "outputs": [
    {
     "name": "stdout",
     "output_type": "stream",
     "text": [
      "['Rat', 'Cat', 'Pat', 'Mat']\n",
      "['Cat', 'Mat', 'Sat']\n"
     ]
    }
   ],
   "source": [
    "#findall function\n",
    "import re\n",
    "str2='Rat Cat Pat Mat Sat Qat'\n",
    "data=re.findall('[RCMP]at',str2)\n",
    "print(data)\n",
    "data=re.findall('[^P-R]at',str2)\n",
    "print(data)"
   ]
  },
  {
   "cell_type": "code",
   "execution_count": null,
   "id": "a0fa826b",
   "metadata": {},
   "outputs": [],
   "source": []
  }
 ],
 "metadata": {
  "kernelspec": {
   "display_name": "Python 3 (ipykernel)",
   "language": "python",
   "name": "python3"
  },
  "language_info": {
   "codemirror_mode": {
    "name": "ipython",
    "version": 3
   },
   "file_extension": ".py",
   "mimetype": "text/x-python",
   "name": "python",
   "nbconvert_exporter": "python",
   "pygments_lexer": "ipython3",
   "version": "3.9.7"
  }
 },
 "nbformat": 4,
 "nbformat_minor": 5
}
